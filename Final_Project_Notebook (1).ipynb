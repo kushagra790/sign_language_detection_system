{
  "cells": [
    {
      "cell_type": "code",
      "execution_count": 1,
      "metadata": {
        "id": "tppVImfxH240"
      },
      "outputs": [],
      "source": [
        "# Final Project"
      ]
    },
    {
      "cell_type": "code",
      "execution_count": 2,
      "metadata": {
        "colab": {
          "base_uri": "https://localhost:8080/"
        },
        "id": "qGIjPvK3H-Pd",
        "outputId": "aaf70ab0-aa62-468f-b46f-78509023ad95"
      },
      "outputs": [],
      "source": [
        "# from google.colab import drive\n",
        "# drive.mount('/content/drive')"
      ]
    },
    {
      "cell_type": "code",
      "execution_count": 3,
      "metadata": {
        "id": "ptnKDl5AIDGe"
      },
      "outputs": [],
      "source": [
        "# IMporting Libraries\n",
        "import numpy as np\n",
        "import pandas as pd\n",
        "import random as rd"
      ]
    },
    {
      "cell_type": "code",
      "execution_count": 4,
      "metadata": {
        "id": "QIWAh4GWJIrL"
      },
      "outputs": [],
      "source": [
        "# For visualization\n",
        "import matplotlib.pyplot as plt\n",
        "import seaborn as sns\n",
        "import plotly.express as px\n",
        "from PIL import Image"
      ]
    },
    {
      "cell_type": "code",
      "execution_count": 5,
      "metadata": {
        "id": "f00vczZkJeWj"
      },
      "outputs": [
        {
          "name": "stdout",
          "output_type": "stream",
          "text": [
            "WARNING:tensorflow:From c:\\Users\\ASUS\\AppData\\Local\\Programs\\Python\\Python311\\Lib\\site-packages\\keras\\src\\losses.py:2976: The name tf.losses.sparse_softmax_cross_entropy is deprecated. Please use tf.compat.v1.losses.sparse_softmax_cross_entropy instead.\n",
            "\n"
          ]
        }
      ],
      "source": [
        "# for Cnn\n",
        "from sklearn.model_selection import train_test_split\n",
        "from sklearn.metrics import confusion_matrix\n",
        "from sklearn.metrics import classification_report\n",
        "import tensorflow as tf\n",
        "from tensorflow import keras\n",
        "from tensorflow.keras import layers\n",
        "from tensorflow.keras.layers.experimental import preprocessing\n",
        "from keras.preprocessing.image import ImageDataGenerator"
      ]
    },
    {
      "cell_type": "code",
      "execution_count": 6,
      "metadata": {
        "colab": {
          "base_uri": "https://localhost:8080/",
          "height": 255
        },
        "id": "UbdsHaJ9KOum",
        "outputId": "fa6b7765-f13e-40bb-a7ec-ca5806379708"
      },
      "outputs": [
        {
          "data": {
            "text/html": [
              "<div>\n",
              "<style scoped>\n",
              "    .dataframe tbody tr th:only-of-type {\n",
              "        vertical-align: middle;\n",
              "    }\n",
              "\n",
              "    .dataframe tbody tr th {\n",
              "        vertical-align: top;\n",
              "    }\n",
              "\n",
              "    .dataframe thead th {\n",
              "        text-align: right;\n",
              "    }\n",
              "</style>\n",
              "<table border=\"1\" class=\"dataframe\">\n",
              "  <thead>\n",
              "    <tr style=\"text-align: right;\">\n",
              "      <th></th>\n",
              "      <th>label</th>\n",
              "      <th>pixel1</th>\n",
              "      <th>pixel2</th>\n",
              "      <th>pixel3</th>\n",
              "      <th>pixel4</th>\n",
              "      <th>pixel5</th>\n",
              "      <th>pixel6</th>\n",
              "      <th>pixel7</th>\n",
              "      <th>pixel8</th>\n",
              "      <th>pixel9</th>\n",
              "      <th>...</th>\n",
              "      <th>pixel775</th>\n",
              "      <th>pixel776</th>\n",
              "      <th>pixel777</th>\n",
              "      <th>pixel778</th>\n",
              "      <th>pixel779</th>\n",
              "      <th>pixel780</th>\n",
              "      <th>pixel781</th>\n",
              "      <th>pixel782</th>\n",
              "      <th>pixel783</th>\n",
              "      <th>pixel784</th>\n",
              "    </tr>\n",
              "  </thead>\n",
              "  <tbody>\n",
              "    <tr>\n",
              "      <th>0</th>\n",
              "      <td>3</td>\n",
              "      <td>107</td>\n",
              "      <td>118</td>\n",
              "      <td>127</td>\n",
              "      <td>134</td>\n",
              "      <td>139</td>\n",
              "      <td>143</td>\n",
              "      <td>146</td>\n",
              "      <td>150</td>\n",
              "      <td>153</td>\n",
              "      <td>...</td>\n",
              "      <td>207</td>\n",
              "      <td>207</td>\n",
              "      <td>207</td>\n",
              "      <td>207</td>\n",
              "      <td>206</td>\n",
              "      <td>206</td>\n",
              "      <td>206</td>\n",
              "      <td>204</td>\n",
              "      <td>203</td>\n",
              "      <td>202</td>\n",
              "    </tr>\n",
              "    <tr>\n",
              "      <th>1</th>\n",
              "      <td>6</td>\n",
              "      <td>155</td>\n",
              "      <td>157</td>\n",
              "      <td>156</td>\n",
              "      <td>156</td>\n",
              "      <td>156</td>\n",
              "      <td>157</td>\n",
              "      <td>156</td>\n",
              "      <td>158</td>\n",
              "      <td>158</td>\n",
              "      <td>...</td>\n",
              "      <td>69</td>\n",
              "      <td>149</td>\n",
              "      <td>128</td>\n",
              "      <td>87</td>\n",
              "      <td>94</td>\n",
              "      <td>163</td>\n",
              "      <td>175</td>\n",
              "      <td>103</td>\n",
              "      <td>135</td>\n",
              "      <td>149</td>\n",
              "    </tr>\n",
              "    <tr>\n",
              "      <th>2</th>\n",
              "      <td>2</td>\n",
              "      <td>187</td>\n",
              "      <td>188</td>\n",
              "      <td>188</td>\n",
              "      <td>187</td>\n",
              "      <td>187</td>\n",
              "      <td>186</td>\n",
              "      <td>187</td>\n",
              "      <td>188</td>\n",
              "      <td>187</td>\n",
              "      <td>...</td>\n",
              "      <td>202</td>\n",
              "      <td>201</td>\n",
              "      <td>200</td>\n",
              "      <td>199</td>\n",
              "      <td>198</td>\n",
              "      <td>199</td>\n",
              "      <td>198</td>\n",
              "      <td>195</td>\n",
              "      <td>194</td>\n",
              "      <td>195</td>\n",
              "    </tr>\n",
              "    <tr>\n",
              "      <th>3</th>\n",
              "      <td>2</td>\n",
              "      <td>211</td>\n",
              "      <td>211</td>\n",
              "      <td>212</td>\n",
              "      <td>212</td>\n",
              "      <td>211</td>\n",
              "      <td>210</td>\n",
              "      <td>211</td>\n",
              "      <td>210</td>\n",
              "      <td>210</td>\n",
              "      <td>...</td>\n",
              "      <td>235</td>\n",
              "      <td>234</td>\n",
              "      <td>233</td>\n",
              "      <td>231</td>\n",
              "      <td>230</td>\n",
              "      <td>226</td>\n",
              "      <td>225</td>\n",
              "      <td>222</td>\n",
              "      <td>229</td>\n",
              "      <td>163</td>\n",
              "    </tr>\n",
              "    <tr>\n",
              "      <th>4</th>\n",
              "      <td>13</td>\n",
              "      <td>164</td>\n",
              "      <td>167</td>\n",
              "      <td>170</td>\n",
              "      <td>172</td>\n",
              "      <td>176</td>\n",
              "      <td>179</td>\n",
              "      <td>180</td>\n",
              "      <td>184</td>\n",
              "      <td>185</td>\n",
              "      <td>...</td>\n",
              "      <td>92</td>\n",
              "      <td>105</td>\n",
              "      <td>105</td>\n",
              "      <td>108</td>\n",
              "      <td>133</td>\n",
              "      <td>163</td>\n",
              "      <td>157</td>\n",
              "      <td>163</td>\n",
              "      <td>164</td>\n",
              "      <td>179</td>\n",
              "    </tr>\n",
              "  </tbody>\n",
              "</table>\n",
              "<p>5 rows × 785 columns</p>\n",
              "</div>"
            ],
            "text/plain": [
              "   label  pixel1  pixel2  pixel3  pixel4  pixel5  pixel6  pixel7  pixel8  \\\n",
              "0      3     107     118     127     134     139     143     146     150   \n",
              "1      6     155     157     156     156     156     157     156     158   \n",
              "2      2     187     188     188     187     187     186     187     188   \n",
              "3      2     211     211     212     212     211     210     211     210   \n",
              "4     13     164     167     170     172     176     179     180     184   \n",
              "\n",
              "   pixel9  ...  pixel775  pixel776  pixel777  pixel778  pixel779  pixel780  \\\n",
              "0     153  ...       207       207       207       207       206       206   \n",
              "1     158  ...        69       149       128        87        94       163   \n",
              "2     187  ...       202       201       200       199       198       199   \n",
              "3     210  ...       235       234       233       231       230       226   \n",
              "4     185  ...        92       105       105       108       133       163   \n",
              "\n",
              "   pixel781  pixel782  pixel783  pixel784  \n",
              "0       206       204       203       202  \n",
              "1       175       103       135       149  \n",
              "2       198       195       194       195  \n",
              "3       225       222       229       163  \n",
              "4       157       163       164       179  \n",
              "\n",
              "[5 rows x 785 columns]"
            ]
          },
          "execution_count": 6,
          "metadata": {},
          "output_type": "execute_result"
        }
      ],
      "source": [
        "# train images data\n",
        "train=pd.read_csv('sign_mnist_train.csv')\n",
        "train.head()"
      ]
    },
    {
      "cell_type": "code",
      "execution_count": 7,
      "metadata": {
        "colab": {
          "base_uri": "https://localhost:8080/",
          "height": 255
        },
        "id": "H8NSN5GTKbIG",
        "outputId": "c0ca34c1-6ba9-44c3-c557-52dfea2aab7b"
      },
      "outputs": [
        {
          "data": {
            "text/html": [
              "<div>\n",
              "<style scoped>\n",
              "    .dataframe tbody tr th:only-of-type {\n",
              "        vertical-align: middle;\n",
              "    }\n",
              "\n",
              "    .dataframe tbody tr th {\n",
              "        vertical-align: top;\n",
              "    }\n",
              "\n",
              "    .dataframe thead th {\n",
              "        text-align: right;\n",
              "    }\n",
              "</style>\n",
              "<table border=\"1\" class=\"dataframe\">\n",
              "  <thead>\n",
              "    <tr style=\"text-align: right;\">\n",
              "      <th></th>\n",
              "      <th>label</th>\n",
              "      <th>pixel1</th>\n",
              "      <th>pixel2</th>\n",
              "      <th>pixel3</th>\n",
              "      <th>pixel4</th>\n",
              "      <th>pixel5</th>\n",
              "      <th>pixel6</th>\n",
              "      <th>pixel7</th>\n",
              "      <th>pixel8</th>\n",
              "      <th>pixel9</th>\n",
              "      <th>...</th>\n",
              "      <th>pixel775</th>\n",
              "      <th>pixel776</th>\n",
              "      <th>pixel777</th>\n",
              "      <th>pixel778</th>\n",
              "      <th>pixel779</th>\n",
              "      <th>pixel780</th>\n",
              "      <th>pixel781</th>\n",
              "      <th>pixel782</th>\n",
              "      <th>pixel783</th>\n",
              "      <th>pixel784</th>\n",
              "    </tr>\n",
              "  </thead>\n",
              "  <tbody>\n",
              "    <tr>\n",
              "      <th>0</th>\n",
              "      <td>6</td>\n",
              "      <td>149</td>\n",
              "      <td>149</td>\n",
              "      <td>150</td>\n",
              "      <td>150</td>\n",
              "      <td>150</td>\n",
              "      <td>151</td>\n",
              "      <td>151</td>\n",
              "      <td>150</td>\n",
              "      <td>151</td>\n",
              "      <td>...</td>\n",
              "      <td>138</td>\n",
              "      <td>148</td>\n",
              "      <td>127</td>\n",
              "      <td>89</td>\n",
              "      <td>82</td>\n",
              "      <td>96</td>\n",
              "      <td>106</td>\n",
              "      <td>112</td>\n",
              "      <td>120</td>\n",
              "      <td>107</td>\n",
              "    </tr>\n",
              "    <tr>\n",
              "      <th>1</th>\n",
              "      <td>5</td>\n",
              "      <td>126</td>\n",
              "      <td>128</td>\n",
              "      <td>131</td>\n",
              "      <td>132</td>\n",
              "      <td>133</td>\n",
              "      <td>134</td>\n",
              "      <td>135</td>\n",
              "      <td>135</td>\n",
              "      <td>136</td>\n",
              "      <td>...</td>\n",
              "      <td>47</td>\n",
              "      <td>104</td>\n",
              "      <td>194</td>\n",
              "      <td>183</td>\n",
              "      <td>186</td>\n",
              "      <td>184</td>\n",
              "      <td>184</td>\n",
              "      <td>184</td>\n",
              "      <td>182</td>\n",
              "      <td>180</td>\n",
              "    </tr>\n",
              "    <tr>\n",
              "      <th>2</th>\n",
              "      <td>10</td>\n",
              "      <td>85</td>\n",
              "      <td>88</td>\n",
              "      <td>92</td>\n",
              "      <td>96</td>\n",
              "      <td>105</td>\n",
              "      <td>123</td>\n",
              "      <td>135</td>\n",
              "      <td>143</td>\n",
              "      <td>147</td>\n",
              "      <td>...</td>\n",
              "      <td>68</td>\n",
              "      <td>166</td>\n",
              "      <td>242</td>\n",
              "      <td>227</td>\n",
              "      <td>230</td>\n",
              "      <td>227</td>\n",
              "      <td>226</td>\n",
              "      <td>225</td>\n",
              "      <td>224</td>\n",
              "      <td>222</td>\n",
              "    </tr>\n",
              "    <tr>\n",
              "      <th>3</th>\n",
              "      <td>0</td>\n",
              "      <td>203</td>\n",
              "      <td>205</td>\n",
              "      <td>207</td>\n",
              "      <td>206</td>\n",
              "      <td>207</td>\n",
              "      <td>209</td>\n",
              "      <td>210</td>\n",
              "      <td>209</td>\n",
              "      <td>210</td>\n",
              "      <td>...</td>\n",
              "      <td>154</td>\n",
              "      <td>248</td>\n",
              "      <td>247</td>\n",
              "      <td>248</td>\n",
              "      <td>253</td>\n",
              "      <td>236</td>\n",
              "      <td>230</td>\n",
              "      <td>240</td>\n",
              "      <td>253</td>\n",
              "      <td>255</td>\n",
              "    </tr>\n",
              "    <tr>\n",
              "      <th>4</th>\n",
              "      <td>3</td>\n",
              "      <td>188</td>\n",
              "      <td>191</td>\n",
              "      <td>193</td>\n",
              "      <td>195</td>\n",
              "      <td>199</td>\n",
              "      <td>201</td>\n",
              "      <td>202</td>\n",
              "      <td>203</td>\n",
              "      <td>203</td>\n",
              "      <td>...</td>\n",
              "      <td>26</td>\n",
              "      <td>40</td>\n",
              "      <td>64</td>\n",
              "      <td>48</td>\n",
              "      <td>29</td>\n",
              "      <td>46</td>\n",
              "      <td>49</td>\n",
              "      <td>46</td>\n",
              "      <td>46</td>\n",
              "      <td>53</td>\n",
              "    </tr>\n",
              "  </tbody>\n",
              "</table>\n",
              "<p>5 rows × 785 columns</p>\n",
              "</div>"
            ],
            "text/plain": [
              "   label  pixel1  pixel2  pixel3  pixel4  pixel5  pixel6  pixel7  pixel8  \\\n",
              "0      6     149     149     150     150     150     151     151     150   \n",
              "1      5     126     128     131     132     133     134     135     135   \n",
              "2     10      85      88      92      96     105     123     135     143   \n",
              "3      0     203     205     207     206     207     209     210     209   \n",
              "4      3     188     191     193     195     199     201     202     203   \n",
              "\n",
              "   pixel9  ...  pixel775  pixel776  pixel777  pixel778  pixel779  pixel780  \\\n",
              "0     151  ...       138       148       127        89        82        96   \n",
              "1     136  ...        47       104       194       183       186       184   \n",
              "2     147  ...        68       166       242       227       230       227   \n",
              "3     210  ...       154       248       247       248       253       236   \n",
              "4     203  ...        26        40        64        48        29        46   \n",
              "\n",
              "   pixel781  pixel782  pixel783  pixel784  \n",
              "0       106       112       120       107  \n",
              "1       184       184       182       180  \n",
              "2       226       225       224       222  \n",
              "3       230       240       253       255  \n",
              "4        49        46        46        53  \n",
              "\n",
              "[5 rows x 785 columns]"
            ]
          },
          "execution_count": 7,
          "metadata": {},
          "output_type": "execute_result"
        }
      ],
      "source": [
        "# test images data\n",
        "test=pd.read_csv('sign_mnist_test.csv')\n",
        "test.head()"
      ]
    },
    {
      "cell_type": "code",
      "execution_count": 8,
      "metadata": {
        "colab": {
          "base_uri": "https://localhost:8080/"
        },
        "id": "daH5u-9oKjil",
        "outputId": "80ada852-19b1-40d2-9be3-4cac414d372c"
      },
      "outputs": [
        {
          "name": "stdout",
          "output_type": "stream",
          "text": [
            "0\n",
            "0\n"
          ]
        }
      ],
      "source": [
        "# for missing data\n",
        "print(sum(train.isna().sum()))\n",
        "print(sum(test.isna().sum()))"
      ]
    },
    {
      "cell_type": "code",
      "execution_count": 9,
      "metadata": {
        "id": "5ANxegugK6OT"
      },
      "outputs": [],
      "source": [
        "y_train=train['label']\n",
        "X_train=train.drop(labels=['label'],axis=1)"
      ]
    },
    {
      "cell_type": "code",
      "execution_count": 10,
      "metadata": {
        "id": "MbK8urgVLd33"
      },
      "outputs": [],
      "source": [
        "y_test=test['label']\n",
        "X_test=test.drop(labels=['label'],axis=1)"
      ]
    },
    {
      "cell_type": "code",
      "execution_count": 11,
      "metadata": {
        "id": "_xIkNd8pLkvR"
      },
      "outputs": [],
      "source": [
        "# grayscale\n",
        "X_train=X_train/255.0\n",
        "X_test=X_test/255.0"
      ]
    },
    {
      "cell_type": "code",
      "execution_count": 12,
      "metadata": {
        "id": "bzc-bKnWLugh"
      },
      "outputs": [],
      "source": [
        "# for(reshapeing)\n",
        "X_train=X_train.values.reshape(-1,28,28,1)\n",
        "X_test=X_test.values.reshape(-1,28,28,1)"
      ]
    },
    {
      "cell_type": "code",
      "execution_count": 13,
      "metadata": {
        "colab": {
          "base_uri": "https://localhost:8080/"
        },
        "id": "NPNim5z7L8rL",
        "outputId": "194251bd-c37b-4f57-fda2-0cb53b252270"
      },
      "outputs": [
        {
          "name": "stdout",
          "output_type": "stream",
          "text": [
            "(27455, 28, 28, 1)\n",
            "(7172, 28, 28, 1)\n"
          ]
        }
      ],
      "source": [
        "print(X_train.shape)\n",
        "print(X_test.shape)"
      ]
    },
    {
      "cell_type": "code",
      "execution_count": 14,
      "metadata": {
        "colab": {
          "base_uri": "https://localhost:8080/",
          "height": 542
        },
        "id": "zsKMBR4vMTxB",
        "outputId": "b28059fc-c563-4184-d3d4-01d04de181c5"
      },
      "outputs": [],
      "source": [
        "# visualization of labels  train\n",
        "fig=px.histogram(train,\n",
        "                 x='label',\n",
        "                 color='label'\n",
        "                 )"
      ]
    },
    {
      "cell_type": "code",
      "execution_count": 15,
      "metadata": {
        "colab": {
          "base_uri": "https://localhost:8080/",
          "height": 542
        },
        "id": "FXReUEq8NFVl",
        "outputId": "4c76de6d-d277-47eb-eae5-12452f166f0b"
      },
      "outputs": [],
      "source": [
        "fig=px.histogram(test,\n",
        "                 x='label',\n",
        "                 color='label'\n",
        "                 )\n"
      ]
    },
    {
      "cell_type": "code",
      "execution_count": 16,
      "metadata": {
        "colab": {
          "base_uri": "https://localhost:8080/",
          "height": 449
        },
        "id": "FaNOVvCtNMGD",
        "outputId": "bfdfee42-1e72-4cfd-bf52-b883f4dcd2dd"
      },
      "outputs": [
        {
          "data": {
            "text/plain": [
              "<matplotlib.image.AxesImage at 0x1b286ca6e90>"
            ]
          },
          "execution_count": 16,
          "metadata": {},
          "output_type": "execute_result"
        },
        {
          "data": {
            "image/png": "[encoded data removed]",
            "text/plain": [
              "<Figure size 640x480 with 4 Axes>"
            ]
          },
          "metadata": {},
          "output_type": "display_data"
        }
      ],
      "source": [
        "fig,axe=plt.subplots(2,2)\n",
        "axe[0,0].imshow(X_train[0].reshape(28,28),cmap='gray')\n",
        "\n",
        "axe[0,1].imshow(X_train[10].reshape(28,28),cmap='gray')\n",
        "\n",
        "axe[1,0].imshow(X_train[100].reshape(28,28),cmap='gray')\n",
        "\n",
        "axe[1,1].imshow(X_train[1000].reshape(28,28),cmap='gray')\n",
        "\n",
        "# traing images at indexs 0,10,100,1000"
      ]
    },
    {
      "cell_type": "code",
      "execution_count": 17,
      "metadata": {
        "colab": {
          "base_uri": "https://localhost:8080/",
          "height": 449
        },
        "id": "-AspC1PVPpGs",
        "outputId": "d12f4cde-e8ff-40e8-d259-afe308c6909b"
      },
      "outputs": [
        {
          "data": {
            "text/plain": [
              "<matplotlib.image.AxesImage at 0x1b288fa67d0>"
            ]
          },
          "execution_count": 17,
          "metadata": {},
          "output_type": "execute_result"
        },
        {
          "data": {
            "image/png": "[encoded data removed]",
            "text/plain": [
              "<Figure size 640x480 with 4 Axes>"
            ]
          },
          "metadata": {},
          "output_type": "display_data"
        }
      ],
      "source": [
        "fig,axe=plt.subplots(2,2)\n",
        "axe[0,0].imshow(X_test[0].reshape(28,28),cmap='gray')\n",
        "\n",
        "axe[0,1].imshow(X_test[10].reshape(28,28),cmap='gray')\n",
        "\n",
        "axe[1,0].imshow(X_test[100].reshape(28,28),cmap='gray')\n",
        "\n",
        "axe[1,1].imshow(X_test[1000].reshape(28,28),cmap='gray')\n",
        "\n",
        "# test images at 0,10,100,1000"
      ]
    },
    {
      "cell_type": "code",
      "execution_count": 18,
      "metadata": {
        "id": "-qNoq0mDQGVf"
      },
      "outputs": [],
      "source": [
        "# CNN model"
      ]
    },
    {
      "cell_type": "code",
      "execution_count": 28,
      "metadata": {
        "id": "GcV94f6dQaAY"
      },
      "outputs": [],
      "source": [
        "# # spliting training images into the images\n",
        "# X_train, X_t, y_train, y_t = train_test_split(X_train, y_train, test_size = 0.3, random_state=7)"
      ]
    },
    {
      "cell_type": "code",
      "execution_count": 29,
      "metadata": {
        "colab": {
          "base_uri": "https://localhost:8080/"
        },
        "id": "cJyA_2SyQl7k",
        "outputId": "2bf0d6ed-2fc1-4345-e691-195086772e23"
      },
      "outputs": [
        {
          "name": "stdout",
          "output_type": "stream",
          "text": [
            "(19218, 28, 28, 1)\n",
            "(19218,)\n",
            "(7172, 28, 28, 1)\n",
            "(7172,)\n"
          ]
        }
      ],
      "source": [
        "print(X_train.shape)\n",
        "print(y_train.shape)\n",
        "# print(X_t.shape)\n",
        "# print(y_t.shape)\n",
        "print(X_test.shape)\n",
        "print(y_test.shape)"
      ]
    },
    {
      "cell_type": "code",
      "execution_count": 30,
      "metadata": {
        "id": "ALF_P8YSSJGF"
      },
      "outputs": [],
      "source": [
        "from keras.models import Sequential\n",
        "from keras.layers import Dense,Flatten,Conv2D,MaxPool2D,Dropout"
      ]
    },
    {
      "cell_type": "code",
      "execution_count": 31,
      "metadata": {
        "id": "GLyF7ThbR_gB"
      },
      "outputs": [],
      "source": [
        "model = keras.Sequential([\n",
        "\n",
        "    layers.BatchNormalization(),\n",
        "    layers.Conv2D(filters=32, kernel_size=(5,5), activation=\"relu\", padding='same',\n",
        "                  input_shape=[28, 28, 1]),\n",
        "    layers.MaxPool2D(),\n",
        "    layers.Dropout(.25),\n",
        "\n",
        "    layers.BatchNormalization(),\n",
        "    layers.Conv2D(filters=32, kernel_size=(3,3), activation=\"relu\", padding='same'),\n",
        "    layers.MaxPool2D(),\n",
        "    layers.Dropout(.25),\n",
        "\n",
        "    layers.BatchNormalization(),\n",
        "    layers.Conv2D(filters=64, kernel_size=(3,3), activation=\"relu\", padding='same'),\n",
        "    layers.MaxPool2D(),\n",
        "    layers.Dropout(.25),\n",
        "\n",
        "    layers.BatchNormalization(),\n",
        "    layers.Conv2D(filters=128, kernel_size=(3,3), activation=\"relu\", padding='same'),\n",
        "    layers.MaxPool2D(),\n",
        "    layers.Dropout(.25),\n",
        "\n",
        "    layers.Flatten(),\n",
        "    layers.Dropout(.25),\n",
        "    layers.Dense(units=64, activation=\"relu\"),\n",
        "    layers.Dense(units=26, activation=\"softmax\"),\n",
        "])"
      ]
    },
    {
      "cell_type": "code",
      "execution_count": 32,
      "metadata": {
        "id": "qgC1kVAbSZlX"
      },
      "outputs": [],
      "source": [
        "model.compile(\n",
        "    optimizer=tf.keras.optimizers.Adam(epsilon=0.01),\n",
        "    loss='sparse_categorical_crossentropy',\n",
        "    metrics=['accuracy']\n",
        ")"
      ]
    },
    {
      "cell_type": "code",
      "execution_count": 33,
      "metadata": {
        "colab": {
          "base_uri": "https://localhost:8080/"
        },
        "id": "Ois4vMtLUdO5",
        "outputId": "fb380949-fc61-4421-d171-26b9be727730"
      },
      "outputs": [
        {
          "name": "stdout",
          "output_type": "stream",
          "text": [
            "Epoch 1/20\n",
            "151/151 - 23s - loss: 3.2601 - accuracy: 0.0686 - val_loss: 3.2569 - val_accuracy: 0.0501 - 23s/epoch - 150ms/step\n",
            "Epoch 2/20\n",
            "151/151 - 16s - loss: 2.5742 - accuracy: 0.2143 - val_loss: 3.1953 - val_accuracy: 0.0640 - 16s/epoch - 108ms/step\n",
            "Epoch 3/20\n",
            "151/151 - 17s - loss: 1.6742 - accuracy: 0.4420 - val_loss: 1.6755 - val_accuracy: 0.3850 - 17s/epoch - 110ms/step\n",
            "Epoch 4/20\n",
            "151/151 - 16s - loss: 1.0762 - accuracy: 0.6236 - val_loss: 0.8913 - val_accuracy: 0.6995 - 16s/epoch - 108ms/step\n",
            "Epoch 5/20\n",
            "151/151 - 15s - loss: 0.7577 - accuracy: 0.7309 - val_loss: 0.5118 - val_accuracy: 0.8337 - 15s/epoch - 98ms/step\n",
            "Epoch 6/20\n",
            "151/151 - 10s - loss: 0.5525 - accuracy: 0.8082 - val_loss: 0.3653 - val_accuracy: 0.8829 - 10s/epoch - 66ms/step\n",
            "Epoch 7/20\n",
            "151/151 - 10s - loss: 0.4333 - accuracy: 0.8483 - val_loss: 0.2537 - val_accuracy: 0.9149 - 10s/epoch - 65ms/step\n",
            "Epoch 8/20\n",
            "151/151 - 10s - loss: 0.3395 - accuracy: 0.8803 - val_loss: 0.1990 - val_accuracy: 0.9392 - 10s/epoch - 67ms/step\n",
            "Epoch 9/20\n",
            "151/151 - 10s - loss: 0.2870 - accuracy: 0.8993 - val_loss: 0.1680 - val_accuracy: 0.9438 - 10s/epoch - 66ms/step\n",
            "Epoch 10/20\n",
            "151/151 - 10s - loss: 0.2322 - accuracy: 0.9203 - val_loss: 0.1354 - val_accuracy: 0.9565 - 10s/epoch - 67ms/step\n",
            "Epoch 11/20\n",
            "151/151 - 10s - loss: 0.1949 - accuracy: 0.9340 - val_loss: 0.1012 - val_accuracy: 0.9713 - 10s/epoch - 66ms/step\n",
            "Epoch 12/20\n",
            "151/151 - 10s - loss: 0.1639 - accuracy: 0.9471 - val_loss: 0.0836 - val_accuracy: 0.9723 - 10s/epoch - 66ms/step\n",
            "Epoch 13/20\n",
            "151/151 - 10s - loss: 0.1455 - accuracy: 0.9508 - val_loss: 0.0641 - val_accuracy: 0.9851 - 10s/epoch - 67ms/step\n",
            "Epoch 14/20\n",
            "151/151 - 10s - loss: 0.1302 - accuracy: 0.9580 - val_loss: 0.0476 - val_accuracy: 0.9879 - 10s/epoch - 67ms/step\n",
            "Epoch 15/20\n",
            "151/151 - 10s - loss: 0.1125 - accuracy: 0.9642 - val_loss: 0.0490 - val_accuracy: 0.9858 - 10s/epoch - 67ms/step\n",
            "Epoch 16/20\n",
            "151/151 - 10s - loss: 0.0976 - accuracy: 0.9688 - val_loss: 0.0446 - val_accuracy: 0.9854 - 10s/epoch - 69ms/step\n",
            "Epoch 17/20\n",
            "151/151 - 12s - loss: 0.0883 - accuracy: 0.9724 - val_loss: 0.0469 - val_accuracy: 0.9900 - 12s/epoch - 81ms/step\n",
            "Epoch 18/20\n",
            "151/151 - 11s - loss: 0.0813 - accuracy: 0.9743 - val_loss: 0.0338 - val_accuracy: 0.9908 - 11s/epoch - 75ms/step\n",
            "Epoch 19/20\n",
            "151/151 - 10s - loss: 0.0763 - accuracy: 0.9758 - val_loss: 0.0305 - val_accuracy: 0.9905 - 10s/epoch - 66ms/step\n",
            "Epoch 20/20\n",
            "151/151 - 10s - loss: 0.0676 - accuracy: 0.9785 - val_loss: 0.0338 - val_accuracy: 0.9914 - 10s/epoch - 66ms/step\n"
          ]
        }
      ],
      "source": [
        "final = model.fit(\n",
        "    x = X_train,\n",
        "    y = y_train,\n",
        "    validation_data= (X_test,y_test),\n",
        "    batch_size = 128,\n",
        "    epochs=20,\n",
        "    verbose=2,\n",
        ")"
      ]
    },
    {
      "cell_type": "code",
      "execution_count": null,
      "metadata": {
        "colab": {
          "base_uri": "https://localhost:8080/"
        },
        "id": "tJgjL61hUuur",
        "outputId": "aee38204-d31e-4833-a52b-9cec0197367c"
      },
      "outputs": [
        {
          "name": "stdout",
          "output_type": "stream",
          "text": [
            "Model: \"sequential\"\n",
            "_________________________________________________________________\n",
            " Layer (type)                Output Shape              Param #   \n",
            "=================================================================\n",
            " batch_normalization (Batch  (None, 28, 28, 1)         4         \n",
            " Normalization)                                                  \n",
            "                                                                 \n",
            " conv2d (Conv2D)             (None, 28, 28, 32)        832       \n",
            "                                                                 \n",
            " max_pooling2d (MaxPooling2  (None, 14, 14, 32)        0         \n",
            " D)                                                              \n",
            "                                                                 \n",
            " dropout (Dropout)           (None, 14, 14, 32)        0         \n",
            "                                                                 \n",
            " batch_normalization_1 (Bat  (None, 14, 14, 32)        128       \n",
            " chNormalization)                                                \n",
            "                                                                 \n",
            " conv2d_1 (Conv2D)           (None, 14, 14, 32)        9248      \n",
            "                                                                 \n",
            " max_pooling2d_1 (MaxPoolin  (None, 7, 7, 32)          0         \n",
            " g2D)                                                            \n",
            "                                                                 \n",
            " dropout_1 (Dropout)         (None, 7, 7, 32)          0         \n",
            "                                                                 \n",
            " batch_normalization_2 (Bat  (None, 7, 7, 32)          128       \n",
            " chNormalization)                                                \n",
            "                                                                 \n",
            " conv2d_2 (Conv2D)           (None, 7, 7, 64)          18496     \n",
            "                                                                 \n",
            " max_pooling2d_2 (MaxPoolin  (None, 3, 3, 64)          0         \n",
            " g2D)                                                            \n",
            "                                                                 \n",
            " dropout_2 (Dropout)         (None, 3, 3, 64)          0         \n",
            "                                                                 \n",
            " batch_normalization_3 (Bat  (None, 3, 3, 64)          256       \n",
            " chNormalization)                                                \n",
            "                                                                 \n",
            " conv2d_3 (Conv2D)           (None, 3, 3, 128)         73856     \n",
            "                                                                 \n",
            " max_pooling2d_3 (MaxPoolin  (None, 1, 1, 128)         0         \n",
            " g2D)                                                            \n",
            "                                                                 \n",
            " dropout_3 (Dropout)         (None, 1, 1, 128)         0         \n",
            "                                                                 \n",
            " flatten (Flatten)           (None, 128)               0         \n",
            "                                                                 \n",
            " dropout_4 (Dropout)         (None, 128)               0         \n",
            "                                                                 \n",
            " dense (Dense)               (None, 64)                8256      \n",
            "                                                                 \n",
            " dense_1 (Dense)             (None, 26)                1690      \n",
            "                                                                 \n",
            "=================================================================\n",
            "Total params: 112894 (440.99 KB)\n",
            "Trainable params: 112636 (439.98 KB)\n",
            "Non-trainable params: 258 (1.01 KB)\n",
            "_________________________________________________________________\n"
          ]
        }
      ],
      "source": [
        "model.summary()"
      ]
    },
    {
      "cell_type": "code",
      "execution_count": null,
      "metadata": {
        "id": "bSMfhZ3wXvv7"
      },
      "outputs": [
        {
          "name": "stdout",
          "output_type": "stream",
          "text": [
            "Model Saved weifhts saved\n"
          ]
        }
      ],
      "source": [
        "model.save_weights(\"model_weights.h5\")\n",
        "# Saving the model\n",
        "model_json = model.to_json()\n",
        "with open(\"model-bw.json\", \"w\") as json_file:\n",
        "    json_file.write(model_json)\n",
        "print('Model Saved weifhts saved')\n",
        "# classifier.save_weights('model-bw.weights.h5')\n",
        "# print('Weights saved')"
      ]
    }
  ],
  "metadata": {
    "accelerator": "GPU",
    "colab": {
      "gpuType": "T4",
      "provenance": []
    },
    "kernelspec": {
      "display_name": "Python 3",
      "name": "python3"
    },
    "language_info": {
      "codemirror_mode": {
        "name": "ipython",
        "version": 3
      },
      "file_extension": ".py",
      "mimetype": "text/x-python",
      "name": "python",
      "nbconvert_exporter": "python",
      "pygments_lexer": "ipython3",
      "version": "3.11.1"
    }
  },
  "nbformat": 4,
  "nbformat_minor": 0
}
